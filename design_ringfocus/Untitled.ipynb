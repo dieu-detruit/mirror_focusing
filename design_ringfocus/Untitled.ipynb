{
 "cells": [
  {
   "cell_type": "code",
   "execution_count": 12,
   "metadata": {},
   "outputs": [],
   "source": [
    "import numpy as np\n",
    "import matplotlib.pyplot as plt\n",
    "import math"
   ]
  },
  {
   "cell_type": "code",
   "execution_count": 14,
   "metadata": {},
   "outputs": [
    {
     "name": "stdout",
     "output_type": "stream",
     "text": [
      "-45 45 0.003 7\n"
     ]
    }
   ],
   "source": [
    "sz = -45\n",
    "sy = 45\n",
    "rf = 0.003\n",
    "zf = 7\n",
    "print(sz, sy, rf, zf)"
   ]
  },
  {
   "cell_type": "code",
   "execution_count": 15,
   "metadata": {},
   "outputs": [
    {
     "name": "stdout",
     "output_type": "stream",
     "text": [
      "-19.0 22.5015 0.7133251091221782\n"
     ]
    }
   ],
   "source": [
    "ellipse_oz = (sz + zf) / 2.0\n",
    "ellipse_oy = (sy + rf) / 2.0\n",
    "ellipse_theta = math.atan2(sy - rf, zf - sz)\n",
    "print(ellipse_oz, ellipse_oy, ellipse_theta)"
   ]
  },
  {
   "cell_type": "code",
   "execution_count": 16,
   "metadata": {},
   "outputs": [],
   "source": [
    "c = math.sqrt((sz-zf)**2 + (sy-rf)**2)\n",
    "a = \n",
    "ze = np.linspace(0, c, 100)\n",
    "ye = "
   ]
  },
  {
   "cell_type": "code",
   "execution_count": null,
   "metadata": {},
   "outputs": [],
   "source": []
  }
 ],
 "metadata": {
  "kernelspec": {
   "display_name": "Python 3",
   "language": "python",
   "name": "python3"
  },
  "language_info": {
   "codemirror_mode": {
    "name": "ipython",
    "version": 3
   },
   "file_extension": ".py",
   "mimetype": "text/x-python",
   "name": "python",
   "nbconvert_exporter": "python",
   "pygments_lexer": "ipython3",
   "version": "3.8.2"
  }
 },
 "nbformat": 4,
 "nbformat_minor": 4
}
